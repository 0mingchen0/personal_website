{
  "cells": [
    {
      "cell_type": "raw",
      "metadata": {},
      "source": [
        "---\n",
        "title: \"Everything I do\"\n",
        "html:\n",
        "    page-layout: full\n",
        "sidebar: false\n",
        "toc: false\n",
        "listing:\n",
        "  - id: notes-listing\n",
        "    contents: \n",
        "      - \"/blogs/*.qmd\"\n",
        "    type: grid\n",
        "    sort: true\n",
        "      - \"date desc\"\n",
        "      - \"title desc\"\n",
        "    sort-ui: true\n",
        "    filter-ui: true\n",
        "    type: table\n",
        "    fields: \n",
        "      - title\n",
        "      - image\n",
        "      - description\n",
        "      - date\n",
        "    categories: false \n",
        "---"
      ],
      "id": "33cebc03"
    },
    {
      "cell_type": "markdown",
      "metadata": {},
      "source": [
        "```{html}\n",
        "<!-- Google tag (gtag.js) -->\n",
        "<script async src=\"https://www.googletagmanager.com/gtag/js?id=G-7B3QTM28NP\"></script>\n",
        "<script>\n",
        "  window.dataLayer = window.dataLayer || [];\n",
        "  function gtag(){dataLayer.push(arguments);}\n",
        "  gtag('js', new Date());\n",
        "\n",
        "  gtag('config', 'G-7B3QTM28NP');\n",
        "</script>\n",
        "```\n",
        "\n",
        "\n",
        "### Thank you for getting here...\n",
        "I use this website to record everything in my life I've enjoyed, it is more of a personal journal rather than a public portfolio. However I enjoy sharing about myself and meeting strangers, so if you ever want to get to know me, go on ahead! \n",
        "\n",
        "Below you will find a non exhaustive list of things I've experimented with and proud of. I pride myself for wanting to know a little bit about everything, and hopefully I will not stop updating this list. If you came from one of these hobbies, feel free to check out the other things I'm doing. \n",
        "This entire list is being continuously updated, and so is each of the blogs.\n",
        "\n",
        ":::projects-listing\n",
        ":::"
      ],
      "id": "9ba395e3"
    }
  ],
  "metadata": {
    "kernelspec": {
      "name": "python3",
      "language": "python",
      "display_name": "Python 3 (ipykernel)"
    }
  },
  "nbformat": 4,
  "nbformat_minor": 5
}